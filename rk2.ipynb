{
 "cells": [
  {
   "cell_type": "markdown",
   "metadata": {},
   "source": [
    "# Рубежный контроль №1\n",
    "## Тема: Технологии разведочного анализа и обработки данных.\n",
    "## Сигал Денис Эдуардович ИУ5-61Б Вариант 15\n",
    "метод 1 - Линейная/логистическая регрессия, метод 2 - Случайный лес"
   ]
  },
  {
   "cell_type": "code",
   "execution_count": 65,
   "metadata": {},
   "outputs": [],
   "source": [
    "import numpy as np\n",
    "import pandas as pd\n",
    "import seaborn as sns\n",
    "import matplotlib.pyplot as plt\n",
    "from sklearn.model_selection import train_test_split\n",
    "from sklearn.linear_model import LogisticRegression\n",
    "from sklearn.metrics import accuracy_score,precision_score\n",
    "from sklearn.svm import SVC, NuSVC, LinearSVC, OneClassSVM, SVR, NuSVR, LinearSVR\n",
    "from sklearn.tree import DecisionTreeClassifier, DecisionTreeRegressor, export_graphviz\n",
    "from sklearn.ensemble import RandomForestClassifier\n",
    "from sklearn.metrics import f1_score\n"
   ]
  },
  {
   "cell_type": "markdown",
   "metadata": {},
   "source": [
    "## 1) подготавливаем датасет и избавляемся от пропусков"
   ]
  },
  {
   "cell_type": "code",
   "execution_count": 26,
   "metadata": {},
   "outputs": [],
   "source": [
    "data_raw=pd.read_csv('datasets/states_all_extended.csv',sep=\",\")"
   ]
  },
  {
   "cell_type": "code",
   "execution_count": 27,
   "metadata": {},
   "outputs": [
    {
     "data": {
      "text/html": [
       "<div>\n",
       "<style scoped>\n",
       "    .dataframe tbody tr th:only-of-type {\n",
       "        vertical-align: middle;\n",
       "    }\n",
       "\n",
       "    .dataframe tbody tr th {\n",
       "        vertical-align: top;\n",
       "    }\n",
       "\n",
       "    .dataframe thead th {\n",
       "        text-align: right;\n",
       "    }\n",
       "</style>\n",
       "<table border=\"1\" class=\"dataframe\">\n",
       "  <thead>\n",
       "    <tr style=\"text-align: right;\">\n",
       "      <th></th>\n",
       "      <th>PRIMARY_KEY</th>\n",
       "      <th>STATE</th>\n",
       "      <th>YEAR</th>\n",
       "      <th>ENROLL</th>\n",
       "      <th>TOTAL_REVENUE</th>\n",
       "      <th>FEDERAL_REVENUE</th>\n",
       "      <th>STATE_REVENUE</th>\n",
       "      <th>LOCAL_REVENUE</th>\n",
       "      <th>TOTAL_EXPENDITURE</th>\n",
       "      <th>INSTRUCTION_EXPENDITURE</th>\n",
       "      <th>...</th>\n",
       "      <th>G08_HI_A_READING</th>\n",
       "      <th>G08_HI_A_MATHEMATICS</th>\n",
       "      <th>G08_AS_A_READING</th>\n",
       "      <th>G08_AS_A_MATHEMATICS</th>\n",
       "      <th>G08_AM_A_READING</th>\n",
       "      <th>G08_AM_A_MATHEMATICS</th>\n",
       "      <th>G08_HP_A_READING</th>\n",
       "      <th>G08_HP_A_MATHEMATICS</th>\n",
       "      <th>G08_TR_A_READING</th>\n",
       "      <th>G08_TR_A_MATHEMATICS</th>\n",
       "    </tr>\n",
       "  </thead>\n",
       "  <tbody>\n",
       "    <tr>\n",
       "      <th>0</th>\n",
       "      <td>1992_ALABAMA</td>\n",
       "      <td>ALABAMA</td>\n",
       "      <td>1992</td>\n",
       "      <td>NaN</td>\n",
       "      <td>2678885.0</td>\n",
       "      <td>304177.0</td>\n",
       "      <td>1659028.0</td>\n",
       "      <td>715680.0</td>\n",
       "      <td>2653798.0</td>\n",
       "      <td>1481703.0</td>\n",
       "      <td>...</td>\n",
       "      <td>NaN</td>\n",
       "      <td>NaN</td>\n",
       "      <td>NaN</td>\n",
       "      <td>NaN</td>\n",
       "      <td>NaN</td>\n",
       "      <td>NaN</td>\n",
       "      <td>NaN</td>\n",
       "      <td>NaN</td>\n",
       "      <td>NaN</td>\n",
       "      <td>NaN</td>\n",
       "    </tr>\n",
       "    <tr>\n",
       "      <th>1</th>\n",
       "      <td>1992_ALASKA</td>\n",
       "      <td>ALASKA</td>\n",
       "      <td>1992</td>\n",
       "      <td>NaN</td>\n",
       "      <td>1049591.0</td>\n",
       "      <td>106780.0</td>\n",
       "      <td>720711.0</td>\n",
       "      <td>222100.0</td>\n",
       "      <td>972488.0</td>\n",
       "      <td>498362.0</td>\n",
       "      <td>...</td>\n",
       "      <td>NaN</td>\n",
       "      <td>NaN</td>\n",
       "      <td>NaN</td>\n",
       "      <td>NaN</td>\n",
       "      <td>NaN</td>\n",
       "      <td>NaN</td>\n",
       "      <td>NaN</td>\n",
       "      <td>NaN</td>\n",
       "      <td>NaN</td>\n",
       "      <td>NaN</td>\n",
       "    </tr>\n",
       "    <tr>\n",
       "      <th>2</th>\n",
       "      <td>1992_ARIZONA</td>\n",
       "      <td>ARIZONA</td>\n",
       "      <td>1992</td>\n",
       "      <td>NaN</td>\n",
       "      <td>3258079.0</td>\n",
       "      <td>297888.0</td>\n",
       "      <td>1369815.0</td>\n",
       "      <td>1590376.0</td>\n",
       "      <td>3401580.0</td>\n",
       "      <td>1435908.0</td>\n",
       "      <td>...</td>\n",
       "      <td>NaN</td>\n",
       "      <td>NaN</td>\n",
       "      <td>NaN</td>\n",
       "      <td>NaN</td>\n",
       "      <td>NaN</td>\n",
       "      <td>NaN</td>\n",
       "      <td>NaN</td>\n",
       "      <td>NaN</td>\n",
       "      <td>NaN</td>\n",
       "      <td>NaN</td>\n",
       "    </tr>\n",
       "    <tr>\n",
       "      <th>3</th>\n",
       "      <td>1992_ARKANSAS</td>\n",
       "      <td>ARKANSAS</td>\n",
       "      <td>1992</td>\n",
       "      <td>NaN</td>\n",
       "      <td>1711959.0</td>\n",
       "      <td>178571.0</td>\n",
       "      <td>958785.0</td>\n",
       "      <td>574603.0</td>\n",
       "      <td>1743022.0</td>\n",
       "      <td>964323.0</td>\n",
       "      <td>...</td>\n",
       "      <td>NaN</td>\n",
       "      <td>NaN</td>\n",
       "      <td>NaN</td>\n",
       "      <td>NaN</td>\n",
       "      <td>NaN</td>\n",
       "      <td>NaN</td>\n",
       "      <td>NaN</td>\n",
       "      <td>NaN</td>\n",
       "      <td>NaN</td>\n",
       "      <td>NaN</td>\n",
       "    </tr>\n",
       "    <tr>\n",
       "      <th>4</th>\n",
       "      <td>1992_CALIFORNIA</td>\n",
       "      <td>CALIFORNIA</td>\n",
       "      <td>1992</td>\n",
       "      <td>NaN</td>\n",
       "      <td>26260025.0</td>\n",
       "      <td>2072470.0</td>\n",
       "      <td>16546514.0</td>\n",
       "      <td>7641041.0</td>\n",
       "      <td>27138832.0</td>\n",
       "      <td>14358922.0</td>\n",
       "      <td>...</td>\n",
       "      <td>NaN</td>\n",
       "      <td>NaN</td>\n",
       "      <td>NaN</td>\n",
       "      <td>NaN</td>\n",
       "      <td>NaN</td>\n",
       "      <td>NaN</td>\n",
       "      <td>NaN</td>\n",
       "      <td>NaN</td>\n",
       "      <td>NaN</td>\n",
       "      <td>NaN</td>\n",
       "    </tr>\n",
       "  </tbody>\n",
       "</table>\n",
       "<p>5 rows × 266 columns</p>\n",
       "</div>"
      ],
      "text/plain": [
       "       PRIMARY_KEY       STATE  YEAR  ENROLL  TOTAL_REVENUE  FEDERAL_REVENUE  \\\n",
       "0     1992_ALABAMA     ALABAMA  1992     NaN      2678885.0         304177.0   \n",
       "1      1992_ALASKA      ALASKA  1992     NaN      1049591.0         106780.0   \n",
       "2     1992_ARIZONA     ARIZONA  1992     NaN      3258079.0         297888.0   \n",
       "3    1992_ARKANSAS    ARKANSAS  1992     NaN      1711959.0         178571.0   \n",
       "4  1992_CALIFORNIA  CALIFORNIA  1992     NaN     26260025.0        2072470.0   \n",
       "\n",
       "   STATE_REVENUE  LOCAL_REVENUE  TOTAL_EXPENDITURE  INSTRUCTION_EXPENDITURE  \\\n",
       "0      1659028.0       715680.0          2653798.0                1481703.0   \n",
       "1       720711.0       222100.0           972488.0                 498362.0   \n",
       "2      1369815.0      1590376.0          3401580.0                1435908.0   \n",
       "3       958785.0       574603.0          1743022.0                 964323.0   \n",
       "4     16546514.0      7641041.0         27138832.0               14358922.0   \n",
       "\n",
       "   ...  G08_HI_A_READING  G08_HI_A_MATHEMATICS  G08_AS_A_READING  \\\n",
       "0  ...               NaN                   NaN               NaN   \n",
       "1  ...               NaN                   NaN               NaN   \n",
       "2  ...               NaN                   NaN               NaN   \n",
       "3  ...               NaN                   NaN               NaN   \n",
       "4  ...               NaN                   NaN               NaN   \n",
       "\n",
       "   G08_AS_A_MATHEMATICS  G08_AM_A_READING  G08_AM_A_MATHEMATICS  \\\n",
       "0                   NaN               NaN                   NaN   \n",
       "1                   NaN               NaN                   NaN   \n",
       "2                   NaN               NaN                   NaN   \n",
       "3                   NaN               NaN                   NaN   \n",
       "4                   NaN               NaN                   NaN   \n",
       "\n",
       "   G08_HP_A_READING  G08_HP_A_MATHEMATICS  G08_TR_A_READING  \\\n",
       "0               NaN                   NaN               NaN   \n",
       "1               NaN                   NaN               NaN   \n",
       "2               NaN                   NaN               NaN   \n",
       "3               NaN                   NaN               NaN   \n",
       "4               NaN                   NaN               NaN   \n",
       "\n",
       "   G08_TR_A_MATHEMATICS  \n",
       "0                   NaN  \n",
       "1                   NaN  \n",
       "2                   NaN  \n",
       "3                   NaN  \n",
       "4                   NaN  \n",
       "\n",
       "[5 rows x 266 columns]"
      ]
     },
     "execution_count": 27,
     "metadata": {},
     "output_type": "execute_result"
    }
   ],
   "source": [
    "data_raw.head()\n"
   ]
  },
  {
   "cell_type": "code",
   "execution_count": 28,
   "metadata": {},
   "outputs": [],
   "source": [
    "data_new=data_raw[['STATE','YEAR','TOTAL_REVENUE','FEDERAL_REVENUE','STATE_REVENUE','LOCAL_REVENUE','TOTAL_EXPENDITURE','INSTRUCTION_EXPENDITURE']]"
   ]
  },
  {
   "cell_type": "code",
   "execution_count": 29,
   "metadata": {},
   "outputs": [
    {
     "data": {
      "text/html": [
       "<div>\n",
       "<style scoped>\n",
       "    .dataframe tbody tr th:only-of-type {\n",
       "        vertical-align: middle;\n",
       "    }\n",
       "\n",
       "    .dataframe tbody tr th {\n",
       "        vertical-align: top;\n",
       "    }\n",
       "\n",
       "    .dataframe thead th {\n",
       "        text-align: right;\n",
       "    }\n",
       "</style>\n",
       "<table border=\"1\" class=\"dataframe\">\n",
       "  <thead>\n",
       "    <tr style=\"text-align: right;\">\n",
       "      <th></th>\n",
       "      <th>STATE</th>\n",
       "      <th>YEAR</th>\n",
       "      <th>TOTAL_REVENUE</th>\n",
       "      <th>FEDERAL_REVENUE</th>\n",
       "      <th>STATE_REVENUE</th>\n",
       "      <th>LOCAL_REVENUE</th>\n",
       "      <th>TOTAL_EXPENDITURE</th>\n",
       "      <th>INSTRUCTION_EXPENDITURE</th>\n",
       "    </tr>\n",
       "  </thead>\n",
       "  <tbody>\n",
       "    <tr>\n",
       "      <th>0</th>\n",
       "      <td>ALABAMA</td>\n",
       "      <td>1992</td>\n",
       "      <td>2678885.0</td>\n",
       "      <td>304177.0</td>\n",
       "      <td>1659028.0</td>\n",
       "      <td>715680.0</td>\n",
       "      <td>2653798.0</td>\n",
       "      <td>1481703.0</td>\n",
       "    </tr>\n",
       "    <tr>\n",
       "      <th>1</th>\n",
       "      <td>ALASKA</td>\n",
       "      <td>1992</td>\n",
       "      <td>1049591.0</td>\n",
       "      <td>106780.0</td>\n",
       "      <td>720711.0</td>\n",
       "      <td>222100.0</td>\n",
       "      <td>972488.0</td>\n",
       "      <td>498362.0</td>\n",
       "    </tr>\n",
       "    <tr>\n",
       "      <th>2</th>\n",
       "      <td>ARIZONA</td>\n",
       "      <td>1992</td>\n",
       "      <td>3258079.0</td>\n",
       "      <td>297888.0</td>\n",
       "      <td>1369815.0</td>\n",
       "      <td>1590376.0</td>\n",
       "      <td>3401580.0</td>\n",
       "      <td>1435908.0</td>\n",
       "    </tr>\n",
       "    <tr>\n",
       "      <th>3</th>\n",
       "      <td>ARKANSAS</td>\n",
       "      <td>1992</td>\n",
       "      <td>1711959.0</td>\n",
       "      <td>178571.0</td>\n",
       "      <td>958785.0</td>\n",
       "      <td>574603.0</td>\n",
       "      <td>1743022.0</td>\n",
       "      <td>964323.0</td>\n",
       "    </tr>\n",
       "    <tr>\n",
       "      <th>4</th>\n",
       "      <td>CALIFORNIA</td>\n",
       "      <td>1992</td>\n",
       "      <td>26260025.0</td>\n",
       "      <td>2072470.0</td>\n",
       "      <td>16546514.0</td>\n",
       "      <td>7641041.0</td>\n",
       "      <td>27138832.0</td>\n",
       "      <td>14358922.0</td>\n",
       "    </tr>\n",
       "  </tbody>\n",
       "</table>\n",
       "</div>"
      ],
      "text/plain": [
       "        STATE  YEAR  TOTAL_REVENUE  FEDERAL_REVENUE  STATE_REVENUE  \\\n",
       "0     ALABAMA  1992      2678885.0         304177.0      1659028.0   \n",
       "1      ALASKA  1992      1049591.0         106780.0       720711.0   \n",
       "2     ARIZONA  1992      3258079.0         297888.0      1369815.0   \n",
       "3    ARKANSAS  1992      1711959.0         178571.0       958785.0   \n",
       "4  CALIFORNIA  1992     26260025.0        2072470.0     16546514.0   \n",
       "\n",
       "   LOCAL_REVENUE  TOTAL_EXPENDITURE  INSTRUCTION_EXPENDITURE  \n",
       "0       715680.0          2653798.0                1481703.0  \n",
       "1       222100.0           972488.0                 498362.0  \n",
       "2      1590376.0          3401580.0                1435908.0  \n",
       "3       574603.0          1743022.0                 964323.0  \n",
       "4      7641041.0         27138832.0               14358922.0  "
      ]
     },
     "execution_count": 29,
     "metadata": {},
     "output_type": "execute_result"
    }
   ],
   "source": [
    "data_new.head()\n"
   ]
  },
  {
   "cell_type": "code",
   "execution_count": 30,
   "metadata": {},
   "outputs": [
    {
     "data": {
      "text/plain": [
       "STATE                        0\n",
       "YEAR                         0\n",
       "TOTAL_REVENUE              440\n",
       "FEDERAL_REVENUE            440\n",
       "STATE_REVENUE              440\n",
       "LOCAL_REVENUE              440\n",
       "TOTAL_EXPENDITURE          440\n",
       "INSTRUCTION_EXPENDITURE    440\n",
       "dtype: int64"
      ]
     },
     "execution_count": 30,
     "metadata": {},
     "output_type": "execute_result"
    }
   ],
   "source": [
    "data_new.isnull().sum()"
   ]
  },
  {
   "cell_type": "code",
   "execution_count": 31,
   "metadata": {},
   "outputs": [
    {
     "data": {
      "text/plain": [
       "((1275, 8), (1715, 8))"
      ]
     },
     "execution_count": 31,
     "metadata": {},
     "output_type": "execute_result"
    }
   ],
   "source": [
    "data=data_new.dropna(axis=0,how='any')\n",
    "(data.shape,data_new.shape)"
   ]
  },
  {
   "cell_type": "code",
   "execution_count": 32,
   "metadata": {},
   "outputs": [
    {
     "data": {
      "text/plain": [
       "STATE                      0\n",
       "YEAR                       0\n",
       "TOTAL_REVENUE              0\n",
       "FEDERAL_REVENUE            0\n",
       "STATE_REVENUE              0\n",
       "LOCAL_REVENUE              0\n",
       "TOTAL_EXPENDITURE          0\n",
       "INSTRUCTION_EXPENDITURE    0\n",
       "dtype: int64"
      ]
     },
     "execution_count": 32,
     "metadata": {},
     "output_type": "execute_result"
    }
   ],
   "source": [
    "data.isnull().sum()"
   ]
  },
  {
   "cell_type": "markdown",
   "metadata": {},
   "source": [
    "## 2) Разделим датасет на обучающую и тестовую выборку"
   ]
  },
  {
   "cell_type": "code",
   "execution_count": 33,
   "metadata": {},
   "outputs": [],
   "source": [
    "data_X_train, data_X_test, data_y_train, data_y_test = train_test_split(\n",
    "    data, data['STATE'], test_size=0.5, random_state=1)"
   ]
  },
  {
   "cell_type": "code",
   "execution_count": 34,
   "metadata": {},
   "outputs": [],
   "source": [
    "del data_X_train['STATE']\n",
    "del data_X_test['STATE']"
   ]
  },
  {
   "cell_type": "code",
   "execution_count": 35,
   "metadata": {},
   "outputs": [
    {
     "data": {
      "text/plain": [
       "920            ARIZONA\n",
       "817             ALASKA\n",
       "443               OHIO\n",
       "701       PENNSYLVANIA\n",
       "108        CONNECTICUT\n",
       "             ...      \n",
       "45             VERMONT\n",
       "1009    SOUTH_CAROLINA\n",
       "925           DELAWARE\n",
       "638            MONTANA\n",
       "68            KENTUCKY\n",
       "Name: STATE, Length: 638, dtype: object"
      ]
     },
     "execution_count": 35,
     "metadata": {},
     "output_type": "execute_result"
    }
   ],
   "source": [
    "data_y_test"
   ]
  },
  {
   "cell_type": "markdown",
   "metadata": {},
   "source": [
    "## 3) метод 1 - Линейная модель"
   ]
  },
  {
   "cell_type": "code",
   "execution_count": 36,
   "metadata": {},
   "outputs": [],
   "source": [
    "cl1 = LogisticRegression()"
   ]
  },
  {
   "cell_type": "code",
   "execution_count": 37,
   "metadata": {},
   "outputs": [
    {
     "name": "stderr",
     "output_type": "stream",
     "text": [
      "/home/matitor/.local/lib/python3.10/site-packages/sklearn/linear_model/_logistic.py:460: ConvergenceWarning: lbfgs failed to converge (status=1):\n",
      "STOP: TOTAL NO. of ITERATIONS REACHED LIMIT.\n",
      "\n",
      "Increase the number of iterations (max_iter) or scale the data as shown in:\n",
      "    https://scikit-learn.org/stable/modules/preprocessing.html\n",
      "Please also refer to the documentation for alternative solver options:\n",
      "    https://scikit-learn.org/stable/modules/linear_model.html#logistic-regression\n",
      "  n_iter_i = _check_optimize_result(\n"
     ]
    },
    {
     "data": {
      "text/html": [
       "<style>#sk-container-id-1 {color: black;}#sk-container-id-1 pre{padding: 0;}#sk-container-id-1 div.sk-toggleable {background-color: white;}#sk-container-id-1 label.sk-toggleable__label {cursor: pointer;display: block;width: 100%;margin-bottom: 0;padding: 0.3em;box-sizing: border-box;text-align: center;}#sk-container-id-1 label.sk-toggleable__label-arrow:before {content: \"▸\";float: left;margin-right: 0.25em;color: #696969;}#sk-container-id-1 label.sk-toggleable__label-arrow:hover:before {color: black;}#sk-container-id-1 div.sk-estimator:hover label.sk-toggleable__label-arrow:before {color: black;}#sk-container-id-1 div.sk-toggleable__content {max-height: 0;max-width: 0;overflow: hidden;text-align: left;background-color: #f0f8ff;}#sk-container-id-1 div.sk-toggleable__content pre {margin: 0.2em;color: black;border-radius: 0.25em;background-color: #f0f8ff;}#sk-container-id-1 input.sk-toggleable__control:checked~div.sk-toggleable__content {max-height: 200px;max-width: 100%;overflow: auto;}#sk-container-id-1 input.sk-toggleable__control:checked~label.sk-toggleable__label-arrow:before {content: \"▾\";}#sk-container-id-1 div.sk-estimator input.sk-toggleable__control:checked~label.sk-toggleable__label {background-color: #d4ebff;}#sk-container-id-1 div.sk-label input.sk-toggleable__control:checked~label.sk-toggleable__label {background-color: #d4ebff;}#sk-container-id-1 input.sk-hidden--visually {border: 0;clip: rect(1px 1px 1px 1px);clip: rect(1px, 1px, 1px, 1px);height: 1px;margin: -1px;overflow: hidden;padding: 0;position: absolute;width: 1px;}#sk-container-id-1 div.sk-estimator {font-family: monospace;background-color: #f0f8ff;border: 1px dotted black;border-radius: 0.25em;box-sizing: border-box;margin-bottom: 0.5em;}#sk-container-id-1 div.sk-estimator:hover {background-color: #d4ebff;}#sk-container-id-1 div.sk-parallel-item::after {content: \"\";width: 100%;border-bottom: 1px solid gray;flex-grow: 1;}#sk-container-id-1 div.sk-label:hover label.sk-toggleable__label {background-color: #d4ebff;}#sk-container-id-1 div.sk-serial::before {content: \"\";position: absolute;border-left: 1px solid gray;box-sizing: border-box;top: 0;bottom: 0;left: 50%;z-index: 0;}#sk-container-id-1 div.sk-serial {display: flex;flex-direction: column;align-items: center;background-color: white;padding-right: 0.2em;padding-left: 0.2em;position: relative;}#sk-container-id-1 div.sk-item {position: relative;z-index: 1;}#sk-container-id-1 div.sk-parallel {display: flex;align-items: stretch;justify-content: center;background-color: white;position: relative;}#sk-container-id-1 div.sk-item::before, #sk-container-id-1 div.sk-parallel-item::before {content: \"\";position: absolute;border-left: 1px solid gray;box-sizing: border-box;top: 0;bottom: 0;left: 50%;z-index: -1;}#sk-container-id-1 div.sk-parallel-item {display: flex;flex-direction: column;z-index: 1;position: relative;background-color: white;}#sk-container-id-1 div.sk-parallel-item:first-child::after {align-self: flex-end;width: 50%;}#sk-container-id-1 div.sk-parallel-item:last-child::after {align-self: flex-start;width: 50%;}#sk-container-id-1 div.sk-parallel-item:only-child::after {width: 0;}#sk-container-id-1 div.sk-dashed-wrapped {border: 1px dashed gray;margin: 0 0.4em 0.5em 0.4em;box-sizing: border-box;padding-bottom: 0.4em;background-color: white;}#sk-container-id-1 div.sk-label label {font-family: monospace;font-weight: bold;display: inline-block;line-height: 1.2em;}#sk-container-id-1 div.sk-label-container {text-align: center;}#sk-container-id-1 div.sk-container {/* jupyter's `normalize.less` sets `[hidden] { display: none; }` but bootstrap.min.css set `[hidden] { display: none !important; }` so we also need the `!important` here to be able to override the default hidden behavior on the sphinx rendered scikit-learn.org. See: https://github.com/scikit-learn/scikit-learn/issues/21755 */display: inline-block !important;position: relative;}#sk-container-id-1 div.sk-text-repr-fallback {display: none;}</style><div id=\"sk-container-id-1\" class=\"sk-top-container\"><div class=\"sk-text-repr-fallback\"><pre>LogisticRegression()</pre><b>In a Jupyter environment, please rerun this cell to show the HTML representation or trust the notebook. <br />On GitHub, the HTML representation is unable to render, please try loading this page with nbviewer.org.</b></div><div class=\"sk-container\" hidden><div class=\"sk-item\"><div class=\"sk-estimator sk-toggleable\"><input class=\"sk-toggleable__control sk-hidden--visually\" id=\"sk-estimator-id-1\" type=\"checkbox\" checked><label for=\"sk-estimator-id-1\" class=\"sk-toggleable__label sk-toggleable__label-arrow\">LogisticRegression</label><div class=\"sk-toggleable__content\"><pre>LogisticRegression()</pre></div></div></div></div></div>"
      ],
      "text/plain": [
       "LogisticRegression()"
      ]
     },
     "execution_count": 37,
     "metadata": {},
     "output_type": "execute_result"
    }
   ],
   "source": [
    "cl1.fit(data_X_train, data_y_train)"
   ]
  },
  {
   "cell_type": "code",
   "execution_count": 38,
   "metadata": {},
   "outputs": [
    {
     "data": {
      "text/plain": [
       "array(['FLORIDA', 'NEW_MEXICO', 'OHIO', 'ILLINOIS', 'NEW_JERSEY', 'TEXAS',\n",
       "       'INDIANA', 'MICHIGAN', 'SOUTH_CAROLINA', 'VIRGINIA',\n",
       "       'NORTH_CAROLINA', 'PENNSYLVANIA', 'CALIFORNIA', 'CALIFORNIA',\n",
       "       'WISCONSIN', 'CALIFORNIA', 'MINNESOTA', 'MINNESOTA', 'ARIZONA',\n",
       "       'INDIANA', 'MICHIGAN', 'COLORADO', 'MASSACHUSETTS', 'CALIFORNIA',\n",
       "       'MICHIGAN', 'NEW_JERSEY', 'PENNSYLVANIA', 'WISCONSIN', 'WISCONSIN',\n",
       "       'VIRGINIA', 'MICHIGAN', 'NORTH_CAROLINA', 'LOUISIANA',\n",
       "       'SOUTH_CAROLINA', 'LOUISIANA', 'MASSACHUSETTS', 'VIRGINIA',\n",
       "       'WISCONSIN', 'MICHIGAN', 'WISCONSIN', 'HAWAII', 'MINNESOTA',\n",
       "       'CALIFORNIA', 'MASSACHUSETTS', 'CALIFORNIA', 'WISCONSIN', 'TEXAS',\n",
       "       'TENNESSEE', 'SOUTH_CAROLINA', 'CALIFORNIA', 'TEXAS', 'NEW_JERSEY',\n",
       "       'ILLINOIS', 'FLORIDA', 'NEW_MEXICO', 'CALIFORNIA', 'COLORADO',\n",
       "       'CALIFORNIA', 'WASHINGTON', 'NEW_JERSEY', 'TEXAS', 'TEXAS',\n",
       "       'MINNESOTA', 'MARYLAND', 'NORTH_CAROLINA', 'MICHIGAN', 'MINNESOTA',\n",
       "       'WASHINGTON', 'TENNESSEE', 'SOUTH_CAROLINA', 'NORTH_CAROLINA',\n",
       "       'WISCONSIN', 'MASSACHUSETTS', 'COLORADO', 'ALABAMA', 'WISCONSIN',\n",
       "       'VIRGINIA', 'MICHIGAN', 'NORTH_CAROLINA', 'ARIZONA', 'ILLINOIS',\n",
       "       'WISCONSIN', 'ILLINOIS', 'MICHIGAN', 'WISCONSIN', 'GEORGIA',\n",
       "       'WISCONSIN', 'NEW_JERSEY', 'PENNSYLVANIA', 'MINNESOTA',\n",
       "       'NORTH_CAROLINA', 'OHIO', 'NORTH_CAROLINA', 'MINNESOTA',\n",
       "       'CALIFORNIA', 'OHIO', 'NORTH_CAROLINA', 'WISCONSIN', 'FLORIDA',\n",
       "       'MASSACHUSETTS', 'ILLINOIS', 'ALABAMA', 'FLORIDA', 'FLORIDA',\n",
       "       'MINNESOTA', 'GEORGIA', 'TEXAS', 'NORTH_CAROLINA', 'ARKANSAS',\n",
       "       'NORTH_CAROLINA', 'CALIFORNIA', 'COLORADO', 'TEXAS', 'OHIO',\n",
       "       'OHIO', 'CALIFORNIA', 'OHIO', 'NORTH_CAROLINA', 'GEORGIA',\n",
       "       'ARKANSAS', 'WISCONSIN', 'SOUTH_CAROLINA', 'ARKANSAS', 'ARKANSAS',\n",
       "       'MICHIGAN', 'ALABAMA', 'WISCONSIN', 'NEW_MEXICO', 'PENNSYLVANIA',\n",
       "       'NORTH_CAROLINA', 'CALIFORNIA', 'GEORGIA', 'PENNSYLVANIA',\n",
       "       'MASSACHUSETTS', 'NEW_MEXICO', 'ILLINOIS', 'ILLINOIS',\n",
       "       'MASSACHUSETTS', 'MINNESOTA', 'OHIO', 'FLORIDA', 'ILLINOIS',\n",
       "       'CALIFORNIA', 'NORTH_CAROLINA', 'MICHIGAN', 'MASSACHUSETTS',\n",
       "       'FLORIDA', 'NORTH_CAROLINA', 'CALIFORNIA', 'MINNESOTA', 'MICHIGAN',\n",
       "       'ARKANSAS', 'MINNESOTA', 'NORTH_CAROLINA', 'ILLINOIS', 'GEORGIA',\n",
       "       'WISCONSIN', 'MASSACHUSETTS', 'ILLINOIS', 'VIRGINIA',\n",
       "       'NORTH_CAROLINA', 'NORTH_CAROLINA', 'MASSACHUSETTS',\n",
       "       'NORTH_CAROLINA', 'ARKANSAS', 'ARKANSAS', 'INDIANA', 'NEW_JERSEY',\n",
       "       'MINNESOTA', 'MICHIGAN', 'FLORIDA', 'NEW_YORK', 'TEXAS',\n",
       "       'ARKANSAS', 'WISCONSIN', 'ILLINOIS', 'CALIFORNIA', 'MASSACHUSETTS',\n",
       "       'PENNSYLVANIA', 'INDIANA', 'ILLINOIS', 'MASSACHUSETTS',\n",
       "       'MINNESOTA', 'ALABAMA', 'MASSACHUSETTS', 'FLORIDA', 'FLORIDA',\n",
       "       'GEORGIA', 'ILLINOIS', 'CALIFORNIA', 'NEW_JERSEY', 'ILLINOIS',\n",
       "       'OHIO', 'LOUISIANA', 'MINNESOTA', 'FLORIDA', 'CALIFORNIA',\n",
       "       'NORTH_CAROLINA', 'NEW_YORK', 'NEW_JERSEY', 'INDIANA',\n",
       "       'MASSACHUSETTS', 'LOUISIANA', 'MASSACHUSETTS', 'MICHIGAN',\n",
       "       'FLORIDA', 'WASHINGTON', 'NEW_YORK', 'VIRGINIA', 'VIRGINIA',\n",
       "       'ILLINOIS', 'NORTH_CAROLINA', 'NEW_MEXICO', 'CALIFORNIA',\n",
       "       'PENNSYLVANIA', 'NEW_YORK', 'NEW_YORK', 'ALABAMA', 'WISCONSIN',\n",
       "       'MASSACHUSETTS', 'ILLINOIS', 'INDIANA', 'MINNESOTA', 'ALABAMA',\n",
       "       'PENNSYLVANIA', 'ALABAMA', 'TENNESSEE', 'ARKANSAS', 'NEW_JERSEY',\n",
       "       'COLORADO', 'ARKANSAS', 'INDIANA', 'CALIFORNIA', 'MARYLAND',\n",
       "       'MICHIGAN', 'KANSAS', 'INDIANA', 'WISCONSIN', 'ILLINOIS',\n",
       "       'SOUTH_CAROLINA', 'CALIFORNIA', 'WISCONSIN', 'WASHINGTON',\n",
       "       'ILLINOIS', 'NEW_JERSEY', 'COLORADO', 'NEW_JERSEY', 'VIRGINIA',\n",
       "       'CALIFORNIA', 'PENNSYLVANIA', 'MASSACHUSETTS', 'LOUISIANA',\n",
       "       'LOUISIANA', 'TENNESSEE', 'OHIO', 'MICHIGAN', 'FLORIDA',\n",
       "       'ILLINOIS', 'NORTH_CAROLINA', 'CALIFORNIA', 'MINNESOTA',\n",
       "       'NORTH_CAROLINA', 'TEXAS', 'CALIFORNIA', 'NORTH_CAROLINA',\n",
       "       'FLORIDA', 'WISCONSIN', 'NORTH_CAROLINA', 'ILLINOIS', 'WISCONSIN',\n",
       "       'WASHINGTON', 'TENNESSEE', 'HAWAII', 'NORTH_CAROLINA', 'VIRGINIA',\n",
       "       'NORTH_CAROLINA', 'NEW_MEXICO', 'NORTH_CAROLINA', 'FLORIDA',\n",
       "       'MINNESOTA', 'TENNESSEE', 'INDIANA', 'VIRGINIA', 'NORTH_CAROLINA',\n",
       "       'TENNESSEE', 'CALIFORNIA', 'FLORIDA', 'COLORADO', 'NEW_YORK',\n",
       "       'MINNESOTA', 'ALABAMA', 'WISCONSIN', 'PENNSYLVANIA',\n",
       "       'MASSACHUSETTS', 'ALABAMA', 'MASSACHUSETTS', 'NEW_MEXICO',\n",
       "       'NORTH_CAROLINA', 'MICHIGAN', 'ILLINOIS', 'GEORGIA', 'FLORIDA',\n",
       "       'LOUISIANA', 'NORTH_CAROLINA', 'ILLINOIS', 'WISCONSIN',\n",
       "       'NEW_JERSEY', 'CALIFORNIA', 'NEW_JERSEY', 'WISCONSIN',\n",
       "       'CALIFORNIA', 'WASHINGTON', 'CALIFORNIA', 'TENNESSEE', 'VIRGINIA',\n",
       "       'ILLINOIS', 'ARKANSAS', 'ILLINOIS', 'NORTH_CAROLINA', 'INDIANA',\n",
       "       'ILLINOIS', 'MINNESOTA', 'CALIFORNIA', 'NORTH_CAROLINA', 'OHIO',\n",
       "       'ALABAMA', 'NORTH_CAROLINA', 'OHIO', 'NEW_YORK', 'FLORIDA',\n",
       "       'FLORIDA', 'NORTH_CAROLINA', 'WISCONSIN', 'KANSAS', 'FLORIDA',\n",
       "       'ILLINOIS', 'ARKANSAS', 'ILLINOIS', 'ARKANSAS', 'VIRGINIA',\n",
       "       'FLORIDA', 'ARKANSAS', 'TEXAS', 'LOUISIANA', 'MINNESOTA', 'TEXAS',\n",
       "       'ILLINOIS', 'MICHIGAN', 'NEW_JERSEY', 'FLORIDA', 'TEXAS',\n",
       "       'ILLINOIS', 'FLORIDA', 'VIRGINIA', 'WASHINGTON', 'WASHINGTON',\n",
       "       'NORTH_CAROLINA', 'FLORIDA', 'MINNESOTA', 'LOUISIANA', 'ILLINOIS',\n",
       "       'VIRGINIA', 'TENNESSEE', 'NORTH_CAROLINA', 'GEORGIA', 'LOUISIANA',\n",
       "       'MICHIGAN', 'ILLINOIS', 'CALIFORNIA', 'CALIFORNIA', 'CALIFORNIA',\n",
       "       'NEW_MEXICO', 'CALIFORNIA', 'PENNSYLVANIA', 'NEW_YORK', 'VIRGINIA',\n",
       "       'NORTH_CAROLINA', 'SOUTH_CAROLINA', 'CALIFORNIA', 'GEORGIA',\n",
       "       'CALIFORNIA', 'NORTH_CAROLINA', 'MARYLAND', 'NORTH_CAROLINA',\n",
       "       'ILLINOIS', 'VIRGINIA', 'TEXAS', 'MASSACHUSETTS', 'MICHIGAN',\n",
       "       'INDIANA', 'VIRGINIA', 'FLORIDA', 'MINNESOTA', 'ILLINOIS',\n",
       "       'MICHIGAN', 'CALIFORNIA', 'CALIFORNIA', 'SOUTH_CAROLINA',\n",
       "       'WASHINGTON', 'NORTH_CAROLINA', 'NEW_JERSEY', 'ARKANSAS',\n",
       "       'CALIFORNIA', 'OREGON', 'CALIFORNIA', 'MICHIGAN', 'MINNESOTA',\n",
       "       'MASSACHUSETTS', 'WISCONSIN', 'MINNESOTA', 'MASSACHUSETTS', 'OHIO',\n",
       "       'WASHINGTON', 'ILLINOIS', 'PENNSYLVANIA', 'ILLINOIS', 'LOUISIANA',\n",
       "       'MINNESOTA', 'VIRGINIA', 'LOUISIANA', 'WASHINGTON', 'WASHINGTON',\n",
       "       'GEORGIA', 'SOUTH_CAROLINA', 'INDIANA', 'CALIFORNIA', 'WISCONSIN',\n",
       "       'TEXAS', 'MASSACHUSETTS', 'TENNESSEE', 'TEXAS', 'MINNESOTA',\n",
       "       'NORTH_CAROLINA', 'MINNESOTA', 'WISCONSIN', 'NORTH_CAROLINA',\n",
       "       'NORTH_CAROLINA', 'CALIFORNIA', 'ARKANSAS', 'ARKANSAS', 'ARKANSAS',\n",
       "       'ILLINOIS', 'NEW_JERSEY', 'FLORIDA', 'CALIFORNIA', 'TEXAS',\n",
       "       'GEORGIA', 'SOUTH_CAROLINA', 'WISCONSIN', 'ILLINOIS', 'FLORIDA',\n",
       "       'CALIFORNIA', 'LOUISIANA', 'NEW_YORK', 'CALIFORNIA', 'ILLINOIS',\n",
       "       'TENNESSEE', 'MICHIGAN', 'ILLINOIS', 'WISCONSIN', 'FLORIDA',\n",
       "       'CALIFORNIA', 'LOUISIANA', 'PENNSYLVANIA', 'WISCONSIN',\n",
       "       'CONNECTICUT', 'OHIO', 'NORTH_CAROLINA', 'ARKANSAS', 'WISCONSIN',\n",
       "       'COLORADO', 'OHIO', 'TEXAS', 'ILLINOIS', 'TENNESSEE',\n",
       "       'NORTH_CAROLINA', 'ALABAMA', 'NEW_YORK', 'NORTH_CAROLINA',\n",
       "       'ARKANSAS', 'MASSACHUSETTS', 'MASSACHUSETTS', 'GEORGIA', 'FLORIDA',\n",
       "       'NEW_MEXICO', 'MICHIGAN', 'FLORIDA', 'OHIO', 'VIRGINIA',\n",
       "       'PENNSYLVANIA', 'MASSACHUSETTS', 'CALIFORNIA', 'NORTH_CAROLINA',\n",
       "       'LOUISIANA', 'PENNSYLVANIA', 'WASHINGTON', 'NORTH_CAROLINA',\n",
       "       'TENNESSEE', 'NORTH_CAROLINA', 'NEW_JERSEY', 'PENNSYLVANIA',\n",
       "       'WISCONSIN', 'FLORIDA', 'FLORIDA', 'MARYLAND', 'ILLINOIS',\n",
       "       'MASSACHUSETTS', 'WISCONSIN', 'TENNESSEE', 'NEW_MEXICO',\n",
       "       'MARYLAND', 'ARKANSAS', 'WISCONSIN', 'COLORADO', 'WASHINGTON',\n",
       "       'ILLINOIS', 'CALIFORNIA', 'NORTH_CAROLINA', 'NEW_MEXICO',\n",
       "       'NORTH_CAROLINA', 'WISCONSIN', 'LOUISIANA', 'NORTH_CAROLINA',\n",
       "       'NEW_YORK', 'FLORIDA', 'VIRGINIA', 'NORTH_CAROLINA', 'TEXAS',\n",
       "       'ILLINOIS', 'FLORIDA', 'CALIFORNIA', 'ILLINOIS', 'ARKANSAS',\n",
       "       'MASSACHUSETTS', 'MICHIGAN', 'ALABAMA', 'ILLINOIS', 'ILLINOIS',\n",
       "       'KANSAS', 'MASSACHUSETTS', 'VIRGINIA', 'TEXAS', 'WISCONSIN',\n",
       "       'CALIFORNIA', 'FLORIDA', 'FLORIDA', 'FLORIDA', 'CALIFORNIA',\n",
       "       'CALIFORNIA', 'WISCONSIN', 'WISCONSIN', 'ARKANSAS', 'TEXAS',\n",
       "       'NEW_YORK', 'MINNESOTA', 'MINNESOTA', 'GEORGIA', 'TENNESSEE',\n",
       "       'CALIFORNIA', 'ILLINOIS', 'WISCONSIN', 'ALABAMA', 'ILLINOIS',\n",
       "       'SOUTH_CAROLINA', 'CALIFORNIA', 'TENNESSEE', 'FLORIDA',\n",
       "       'WASHINGTON', 'MASSACHUSETTS', 'MASSACHUSETTS', 'WISCONSIN',\n",
       "       'LOUISIANA', 'MASSACHUSETTS', 'MARYLAND', 'SOUTH_CAROLINA',\n",
       "       'INDIANA', 'SOUTH_CAROLINA', 'ALABAMA', 'VIRGINIA', 'TEXAS',\n",
       "       'NEW_MEXICO', 'CALIFORNIA', 'WISCONSIN', 'CALIFORNIA',\n",
       "       'NEW_JERSEY', 'MICHIGAN', 'WASHINGTON', 'CALIFORNIA', 'NEW_MEXICO',\n",
       "       'MICHIGAN', 'WISCONSIN', 'NORTH_CAROLINA', 'OHIO', 'NEW_JERSEY',\n",
       "       'WISCONSIN', 'NORTH_CAROLINA', 'CALIFORNIA', 'MICHIGAN', 'GEORGIA',\n",
       "       'LOUISIANA', 'WISCONSIN', 'CALIFORNIA', 'CALIFORNIA', 'GEORGIA',\n",
       "       'ILLINOIS', 'MINNESOTA', 'GEORGIA', 'ARIZONA', 'MASSACHUSETTS',\n",
       "       'MINNESOTA', 'FLORIDA', 'TEXAS', 'NEW_YORK', 'TEXAS', 'MICHIGAN',\n",
       "       'INDIANA', 'WISCONSIN', 'NORTH_CAROLINA', 'MICHIGAN', 'NEW_JERSEY',\n",
       "       'WISCONSIN', 'ILLINOIS', 'MINNESOTA', 'NEW_MEXICO', 'NEW_YORK',\n",
       "       'NORTH_CAROLINA', 'WISCONSIN', 'TEXAS', 'MINNESOTA', 'NEW_JERSEY',\n",
       "       'NEW_JERSEY', 'WISCONSIN', 'NORTH_CAROLINA', 'PENNSYLVANIA',\n",
       "       'FLORIDA', 'CALIFORNIA', 'LOUISIANA', 'NORTH_CAROLINA'],\n",
       "      dtype=object)"
      ]
     },
     "execution_count": 38,
     "metadata": {},
     "output_type": "execute_result"
    }
   ],
   "source": [
    "pred_data_y_test = cl1.predict(data_X_test)\n",
    "pred_data_y_test"
   ]
  },
  {
   "cell_type": "code",
   "execution_count": 40,
   "metadata": {},
   "outputs": [
    {
     "data": {
      "text/plain": [
       "array([[1.83860186e-10, 6.57356115e-09, 3.05367581e-01, 4.12310184e-23,\n",
       "        8.22744271e-06, 9.47486275e-04, 9.90448377e-07, 1.48413127e-07,\n",
       "        8.55784327e-05, 3.64857988e-01, 2.01956770e-04, 3.00495789e-22,\n",
       "        1.00301403e-09, 3.55795280e-04, 5.16021897e-08, 9.12441980e-05,\n",
       "        8.86356829e-11, 2.33977314e-10, 4.65647857e-03, 1.04470830e-04,\n",
       "        4.29103270e-05, 3.87587387e-08, 2.19363722e-06, 1.96557385e-16,\n",
       "        1.55080137e-05, 3.31340483e-03, 2.47936165e-05, 3.08297441e-04,\n",
       "        3.21713507e-11, 6.73691794e-05, 1.71763106e-11, 6.35243609e-19,\n",
       "        3.98911575e-13, 3.04587699e-12, 4.39913898e-11, 3.44610590e-04,\n",
       "        4.94480313e-06, 6.91826989e-07, 2.39160372e-06, 8.16313029e-05,\n",
       "        3.65408458e-04, 7.52987701e-04, 1.10952479e-04, 3.17696859e-01,\n",
       "        2.52443962e-06, 1.42927359e-05, 1.68007364e-04, 1.19353662e-14,\n",
       "        1.71501268e-09, 2.17156945e-06, 3.15656648e-09],\n",
       "       [9.60031283e-02, 2.46117572e-02, 6.91635663e-04, 9.79806389e-02,\n",
       "        3.34021162e-02, 5.21078464e-05, 2.99840604e-08, 1.13140234e-02,\n",
       "        2.32097901e-08, 4.92407360e-04, 1.78592218e-03, 4.94930597e-02,\n",
       "        2.36247573e-02, 4.58321950e-09, 3.18906138e-03, 6.77713753e-04,\n",
       "        3.11033990e-02, 7.97326529e-02, 6.02901242e-03, 2.18047740e-04,\n",
       "        3.61024230e-06, 1.22264668e-07, 4.85284501e-03, 3.65889512e-02,\n",
       "        1.40505086e-02, 1.87939078e-04, 1.58580419e-03, 5.35727040e-07,\n",
       "        4.56230220e-02, 4.34914555e-06, 4.55913996e-09, 1.55050392e-01,\n",
       "        1.54926899e-07, 9.77495926e-02, 1.40406065e-05, 5.99970552e-06,\n",
       "        2.14909790e-02, 9.29288687e-03, 1.66488747e-09, 3.24340866e-05,\n",
       "        6.12968382e-03, 9.38865724e-05, 2.75224263e-03, 9.78381006e-05,\n",
       "        9.53136618e-03, 2.37646244e-03, 1.09555558e-06, 9.85040183e-02,\n",
       "        3.13935494e-02, 1.85580966e-03, 3.28374616e-04],\n",
       "       [2.33711334e-17, 9.89246062e-14, 1.27563828e-03, 2.85922003e-38,\n",
       "        2.22229475e-09, 5.32911292e-02, 8.04424491e-04, 1.13782286e-08,\n",
       "        8.58598511e-06, 1.27588100e-02, 2.03076768e-04, 5.18733969e-35,\n",
       "        3.67947985e-13, 1.67043268e-05, 4.53584112e-05, 1.64505887e-03,\n",
       "        4.18945106e-13, 1.25373848e-16, 3.13789986e-07, 4.79019704e-04,\n",
       "        2.84161029e-02, 1.15469034e-04, 1.23524442e-04, 2.82772094e-19,\n",
       "        5.70220439e-10, 3.51284534e-03, 2.74584265e-06, 5.98239508e-04,\n",
       "        2.88550572e-15, 3.11272972e-03, 6.94298313e-03, 3.86539826e-33,\n",
       "        3.27772182e-15, 2.07482415e-20, 2.30446086e-16, 8.80660657e-01,\n",
       "        2.78805083e-09, 1.43906773e-07, 4.99456281e-05, 1.45269974e-03,\n",
       "        1.92978392e-05, 1.73299681e-04, 5.21416484e-09, 5.80539393e-04,\n",
       "        5.41569954e-08, 7.69839239e-05, 1.95661657e-03, 3.29788376e-21,\n",
       "        9.63831920e-14, 1.67697998e-03, 6.00040740e-12],\n",
       "       [3.14162427e-41, 6.19918726e-34, 4.19036562e-10, 8.60473471e-82,\n",
       "        1.83331667e-26, 3.72899448e-06, 2.29850795e-05, 1.84652847e-25,\n",
       "        1.72671543e-04, 8.96146239e-08, 4.46673939e-15, 4.12679070e-77,\n",
       "        1.07105079e-34, 7.80678729e-01, 7.61789083e-22, 1.16960931e-12,\n",
       "        6.99004160e-36, 1.43791343e-40, 3.44771911e-19, 3.79299440e-12,\n",
       "        2.63700148e-06, 1.67926085e-08, 2.43734878e-18, 1.26237930e-47,\n",
       "        2.20379324e-25, 2.56648395e-09, 6.00450562e-18, 5.49807900e-05,\n",
       "        6.61126608e-39, 8.60733498e-07, 1.93654786e-06, 6.42501943e-72,\n",
       "        2.95696550e-23, 6.62257904e-48, 1.65092101e-31, 6.81555157e-06,\n",
       "        7.13269903e-26, 5.99516406e-23, 2.18788730e-01, 8.16426108e-10,\n",
       "        4.38152540e-16, 7.58935784e-11, 1.84816366e-19, 4.71500067e-06,\n",
       "        6.31967074e-23, 6.21285514e-17, 2.61099577e-04, 3.52341843e-51,\n",
       "        2.32386740e-35, 3.73947342e-16, 1.35950986e-27],\n",
       "       [1.15675509e-09, 2.79226546e-08, 7.12801719e-05, 3.80802072e-17,\n",
       "        5.13870109e-07, 2.43254057e-03, 1.46989000e-01, 3.16088163e-06,\n",
       "        9.75938254e-03, 2.55006873e-04, 6.42076305e-04, 6.58018709e-16,\n",
       "        6.43824027e-08, 4.51264262e-02, 1.89136203e-05, 5.80246666e-04,\n",
       "        3.68650326e-08, 1.85499500e-09, 1.44271889e-05, 1.37393379e-03,\n",
       "        3.85477155e-02, 2.90537162e-01, 5.77366572e-06, 3.74048008e-10,\n",
       "        1.01739863e-06, 1.63667107e-03, 6.45652814e-05, 3.11843993e-02,\n",
       "        3.91640911e-09, 1.55714283e-02, 2.90656006e-01, 7.76106973e-16,\n",
       "        5.33606129e-03, 4.15117189e-10, 1.33678110e-07, 8.85958632e-03,\n",
       "        6.41765417e-07, 9.36303245e-06, 6.17545137e-02, 7.44649663e-03,\n",
       "        2.13621076e-05, 9.11042418e-04, 5.40645316e-05, 1.66755780e-04,\n",
       "        5.53284792e-06, 8.33381180e-05, 3.91414252e-02, 1.22035003e-11,\n",
       "        4.66538228e-08, 7.36874687e-04, 9.77398475e-07],\n",
       "       [8.33797101e-11, 4.31893902e-09, 1.54866677e-01, 2.44839710e-23,\n",
       "        2.75783160e-06, 6.11983282e-03, 6.96003526e-06, 1.87951517e-07,\n",
       "        3.54182387e-04, 2.95943070e-01, 1.17942567e-04, 1.94940685e-22,\n",
       "        7.44895632e-10, 1.71179745e-03, 2.35409973e-07, 2.17643634e-04,\n",
       "        1.50060797e-10, 1.04407570e-10, 5.35621866e-04, 1.60683728e-04,\n",
       "        1.77932350e-04, 2.55590119e-07, 1.88881354e-05, 2.57382423e-15,\n",
       "        4.05800596e-06, 3.88011024e-03, 2.30600575e-05, 6.96875817e-04,\n",
       "        5.32433935e-11, 2.70777904e-04, 5.34585711e-09, 2.01585921e-19,\n",
       "        1.67117745e-12, 4.87245763e-13, 8.87965906e-11, 1.44862868e-03,\n",
       "        2.31621908e-06, 9.20848395e-07, 6.07570120e-05, 1.42890483e-04,\n",
       "        5.50968000e-04, 8.78362143e-04, 2.87988208e-05, 5.30986514e-01,\n",
       "        2.35203851e-06, 2.83873778e-05, 7.53828573e-04, 2.13595566e-14,\n",
       "        8.68928192e-10, 5.70763703e-06, 5.78321036e-09],\n",
       "       [3.18999150e-04, 1.07099608e-03, 8.30569849e-03, 2.85521696e-09,\n",
       "        1.57350135e-02, 7.43542741e-03, 9.87908075e-06, 2.07450613e-02,\n",
       "        5.51454675e-07, 1.22636374e-02, 3.36033935e-02, 1.94516682e-08,\n",
       "        2.65797954e-03, 1.05127347e-07, 2.53431862e-01, 3.49381673e-02,\n",
       "        5.80527524e-03, 5.27816414e-04, 5.80534289e-03, 7.68298897e-03,\n",
       "        1.13715120e-03, 2.51295529e-05, 2.05644899e-01, 3.46485314e-04,\n",
       "        3.39612917e-03, 7.20950301e-03, 9.47396474e-03, 3.11403717e-05,\n",
       "        1.49857666e-03, 4.87409224e-04, 3.44372600e-05, 5.36234786e-08,\n",
       "        1.73458279e-08, 6.03416760e-05, 4.07872598e-07, 6.36821848e-03,\n",
       "        1.23848073e-02, 3.11671297e-02, 1.77938261e-07, 2.24981176e-03,\n",
       "        3.40028737e-02, 1.71082375e-03, 7.61676053e-04, 7.35395535e-04,\n",
       "        1.73652105e-02, 5.45614300e-02, 8.57823060e-05, 1.05377455e-04,\n",
       "        1.81502110e-03, 1.96879019e-01, 1.23382433e-04],\n",
       "       [1.28712122e-02, 1.73123016e-02, 3.48042788e-02, 8.82944069e-04,\n",
       "        3.99139029e-02, 1.99336083e-02, 1.76624751e-03, 3.19517409e-02,\n",
       "        1.02904006e-03, 3.34460758e-02, 2.62455364e-02, 1.47318543e-03,\n",
       "        2.09998543e-02, 5.15708352e-04, 8.51212530e-02, 3.03998551e-02,\n",
       "        2.80128337e-02, 1.55717419e-02, 2.40886720e-02, 1.68320690e-02,\n",
       "        8.11239033e-03, 1.52900231e-03, 9.61685108e-02, 1.10373265e-02,\n",
       "        2.13403626e-02, 1.84968818e-02, 2.21221644e-02, 2.73379968e-03,\n",
       "        2.12177107e-02, 6.41720538e-03, 2.34508656e-03, 2.31792211e-03,\n",
       "        7.92418926e-05, 6.94139290e-03, 1.44255220e-03, 2.38069646e-02,\n",
       "        3.63052240e-02, 3.35250378e-02, 5.99645836e-04, 1.01978667e-02,\n",
       "        3.87705679e-02, 1.20334486e-02, 6.99712185e-03, 1.35080432e-02,\n",
       "        3.02538956e-02, 4.03872959e-02, 3.28986555e-03, 1.36790947e-02,\n",
       "        1.83424952e-02, 4.53698837e-02, 7.45993745e-03],\n",
       "       [1.10982992e-02, 9.93508841e-03, 8.04777885e-03, 1.32647933e-07,\n",
       "        7.80302301e-02, 2.28486170e-03, 4.75044233e-08, 5.22670033e-02,\n",
       "        1.43555523e-08, 1.29955091e-02, 5.03340845e-02, 1.78266408e-07,\n",
       "        1.01936086e-02, 3.71371863e-09, 1.95858305e-02, 2.36272439e-02,\n",
       "        1.46451384e-02, 9.27606625e-03, 2.90533846e-02, 4.80551287e-03,\n",
       "        5.54490538e-05, 4.76176437e-07, 6.80023721e-02, 2.47630137e-03,\n",
       "        3.03700885e-02, 5.29542763e-03, 1.55891904e-02, 2.65007896e-06,\n",
       "        9.38064546e-03, 5.91819357e-05, 9.01703177e-09, 2.08331951e-06,\n",
       "        5.81565026e-08, 2.07338119e-03, 2.01888451e-07, 5.08732879e-05,\n",
       "        5.18716135e-02, 8.18616653e-02, 1.24225446e-09, 5.48455470e-04,\n",
       "        1.66902034e-01, 1.17538107e-03, 3.08884364e-02, 1.87880254e-03,\n",
       "        6.37518767e-02, 4.48164412e-02, 1.53127378e-05, 8.29816456e-04,\n",
       "        1.21824763e-02, 7.36409808e-02, 9.83004816e-05],\n",
       "       [1.54332170e-11, 1.97058267e-09, 2.27694636e-03, 2.55112075e-26,\n",
       "        5.69024161e-07, 1.40483067e-01, 1.40871064e-02, 3.71925416e-06,\n",
       "        1.42270080e-03, 2.24552696e-02, 1.01686990e-02, 1.04653974e-24,\n",
       "        2.53239854e-09, 1.20283823e-02, 1.46533911e-05, 1.43283560e-02,\n",
       "        1.24020645e-09, 2.11602139e-11, 6.71060602e-05, 1.62714011e-02,\n",
       "        1.52655439e-01, 4.56437377e-02, 5.08040715e-05, 4.07120199e-13,\n",
       "        1.17224271e-06, 4.94047818e-02, 3.18651640e-04, 5.19606817e-02,\n",
       "        6.58902411e-11, 8.01797709e-02, 6.89454318e-03, 2.84229597e-23,\n",
       "        2.33099118e-05, 2.61911767e-13, 6.02883636e-11, 2.16512039e-02,\n",
       "        7.09998424e-07, 2.88137702e-05, 6.47947741e-03, 4.53631110e-02,\n",
       "        9.94457938e-04, 8.64894590e-03, 5.65069231e-04, 1.76323164e-02,\n",
       "        1.65941307e-05, 8.20992986e-04, 2.68990452e-01, 2.18159289e-15,\n",
       "        1.86112849e-09, 8.06695314e-03, 2.59745084e-08]])"
      ]
     },
     "execution_count": 40,
     "metadata": {},
     "output_type": "execute_result"
    }
   ],
   "source": [
    "pred_data_y_test_proba = cl1.predict_proba(data_X_test)\n",
    "pred_data_y_test_proba[:10]"
   ]
  },
  {
   "cell_type": "code",
   "execution_count": 68,
   "metadata": {},
   "outputs": [
    {
     "name": "stdout",
     "output_type": "stream",
     "text": [
      "accuracy_score -  0.23510971786833856\n"
     ]
    }
   ],
   "source": [
    "print('accuracy_score - ',accuracy_score(data_y_test, pred_data_y_test))"
   ]
  },
  {
   "cell_type": "code",
   "execution_count": 67,
   "metadata": {},
   "outputs": [
    {
     "name": "stdout",
     "output_type": "stream",
     "text": [
      "Macro-Averaged Precision: 0.20393506764898525\n"
     ]
    },
    {
     "name": "stderr",
     "output_type": "stream",
     "text": [
      "/home/matitor/.local/lib/python3.10/site-packages/sklearn/metrics/_classification.py:1471: UndefinedMetricWarning: Precision is ill-defined and being set to 0.0 in labels with no predicted samples. Use `zero_division` parameter to control this behavior.\n",
      "  _warn_prf(average, modifier, msg_start, len(result))\n"
     ]
    }
   ],
   "source": [
    "\n",
    "precision_macro = precision_score(data_y_test, pred_data_y_test, average='macro')\n",
    "print(f\"Macro-Averaged Precision: {precision_macro}\")"
   ]
  },
  {
   "cell_type": "code",
   "execution_count": 66,
   "metadata": {},
   "outputs": [
    {
     "name": "stdout",
     "output_type": "stream",
     "text": [
      "Weighted F1-Score: 0.175552943995071\n"
     ]
    }
   ],
   "source": [
    "f1_weighted = f1_score(data_y_test, pred_data_y_test, average='weighted')\n",
    "print(f\"Weighted F1-Score: {f1_weighted}\")\n"
   ]
  },
  {
   "cell_type": "markdown",
   "metadata": {},
   "source": [
    " - посчитанные метрики - точность, MAP, F1\n",
    " - Как видно из данных метрик обычная логистическаяя регрессия плохо справляеться с предсказанием штатов по стоймости обучения в нём"
   ]
  },
  {
   "cell_type": "markdown",
   "metadata": {},
   "source": [
    "## 4) метод 2 - Случайный лес"
   ]
  },
  {
   "cell_type": "code",
   "execution_count": 47,
   "metadata": {},
   "outputs": [],
   "source": [
    "rfc = RandomForestClassifier(n_estimators=20, criterion='gini', max_depth=10)"
   ]
  },
  {
   "cell_type": "code",
   "execution_count": 48,
   "metadata": {},
   "outputs": [
    {
     "data": {
      "text/html": [
       "<style>#sk-container-id-2 {color: black;}#sk-container-id-2 pre{padding: 0;}#sk-container-id-2 div.sk-toggleable {background-color: white;}#sk-container-id-2 label.sk-toggleable__label {cursor: pointer;display: block;width: 100%;margin-bottom: 0;padding: 0.3em;box-sizing: border-box;text-align: center;}#sk-container-id-2 label.sk-toggleable__label-arrow:before {content: \"▸\";float: left;margin-right: 0.25em;color: #696969;}#sk-container-id-2 label.sk-toggleable__label-arrow:hover:before {color: black;}#sk-container-id-2 div.sk-estimator:hover label.sk-toggleable__label-arrow:before {color: black;}#sk-container-id-2 div.sk-toggleable__content {max-height: 0;max-width: 0;overflow: hidden;text-align: left;background-color: #f0f8ff;}#sk-container-id-2 div.sk-toggleable__content pre {margin: 0.2em;color: black;border-radius: 0.25em;background-color: #f0f8ff;}#sk-container-id-2 input.sk-toggleable__control:checked~div.sk-toggleable__content {max-height: 200px;max-width: 100%;overflow: auto;}#sk-container-id-2 input.sk-toggleable__control:checked~label.sk-toggleable__label-arrow:before {content: \"▾\";}#sk-container-id-2 div.sk-estimator input.sk-toggleable__control:checked~label.sk-toggleable__label {background-color: #d4ebff;}#sk-container-id-2 div.sk-label input.sk-toggleable__control:checked~label.sk-toggleable__label {background-color: #d4ebff;}#sk-container-id-2 input.sk-hidden--visually {border: 0;clip: rect(1px 1px 1px 1px);clip: rect(1px, 1px, 1px, 1px);height: 1px;margin: -1px;overflow: hidden;padding: 0;position: absolute;width: 1px;}#sk-container-id-2 div.sk-estimator {font-family: monospace;background-color: #f0f8ff;border: 1px dotted black;border-radius: 0.25em;box-sizing: border-box;margin-bottom: 0.5em;}#sk-container-id-2 div.sk-estimator:hover {background-color: #d4ebff;}#sk-container-id-2 div.sk-parallel-item::after {content: \"\";width: 100%;border-bottom: 1px solid gray;flex-grow: 1;}#sk-container-id-2 div.sk-label:hover label.sk-toggleable__label {background-color: #d4ebff;}#sk-container-id-2 div.sk-serial::before {content: \"\";position: absolute;border-left: 1px solid gray;box-sizing: border-box;top: 0;bottom: 0;left: 50%;z-index: 0;}#sk-container-id-2 div.sk-serial {display: flex;flex-direction: column;align-items: center;background-color: white;padding-right: 0.2em;padding-left: 0.2em;position: relative;}#sk-container-id-2 div.sk-item {position: relative;z-index: 1;}#sk-container-id-2 div.sk-parallel {display: flex;align-items: stretch;justify-content: center;background-color: white;position: relative;}#sk-container-id-2 div.sk-item::before, #sk-container-id-2 div.sk-parallel-item::before {content: \"\";position: absolute;border-left: 1px solid gray;box-sizing: border-box;top: 0;bottom: 0;left: 50%;z-index: -1;}#sk-container-id-2 div.sk-parallel-item {display: flex;flex-direction: column;z-index: 1;position: relative;background-color: white;}#sk-container-id-2 div.sk-parallel-item:first-child::after {align-self: flex-end;width: 50%;}#sk-container-id-2 div.sk-parallel-item:last-child::after {align-self: flex-start;width: 50%;}#sk-container-id-2 div.sk-parallel-item:only-child::after {width: 0;}#sk-container-id-2 div.sk-dashed-wrapped {border: 1px dashed gray;margin: 0 0.4em 0.5em 0.4em;box-sizing: border-box;padding-bottom: 0.4em;background-color: white;}#sk-container-id-2 div.sk-label label {font-family: monospace;font-weight: bold;display: inline-block;line-height: 1.2em;}#sk-container-id-2 div.sk-label-container {text-align: center;}#sk-container-id-2 div.sk-container {/* jupyter's `normalize.less` sets `[hidden] { display: none; }` but bootstrap.min.css set `[hidden] { display: none !important; }` so we also need the `!important` here to be able to override the default hidden behavior on the sphinx rendered scikit-learn.org. See: https://github.com/scikit-learn/scikit-learn/issues/21755 */display: inline-block !important;position: relative;}#sk-container-id-2 div.sk-text-repr-fallback {display: none;}</style><div id=\"sk-container-id-2\" class=\"sk-top-container\"><div class=\"sk-text-repr-fallback\"><pre>RandomForestClassifier(max_depth=10, n_estimators=20)</pre><b>In a Jupyter environment, please rerun this cell to show the HTML representation or trust the notebook. <br />On GitHub, the HTML representation is unable to render, please try loading this page with nbviewer.org.</b></div><div class=\"sk-container\" hidden><div class=\"sk-item\"><div class=\"sk-estimator sk-toggleable\"><input class=\"sk-toggleable__control sk-hidden--visually\" id=\"sk-estimator-id-2\" type=\"checkbox\" checked><label for=\"sk-estimator-id-2\" class=\"sk-toggleable__label sk-toggleable__label-arrow\">RandomForestClassifier</label><div class=\"sk-toggleable__content\"><pre>RandomForestClassifier(max_depth=10, n_estimators=20)</pre></div></div></div></div></div>"
      ],
      "text/plain": [
       "RandomForestClassifier(max_depth=10, n_estimators=20)"
      ]
     },
     "execution_count": 48,
     "metadata": {},
     "output_type": "execute_result"
    }
   ],
   "source": [
    "rfc.fit(data_X_train, data_y_train)"
   ]
  },
  {
   "cell_type": "code",
   "execution_count": 72,
   "metadata": {},
   "outputs": [],
   "source": [
    "y_pred = rfc.predict(data_X_test)\n"
   ]
  },
  {
   "cell_type": "code",
   "execution_count": 70,
   "metadata": {},
   "outputs": [
    {
     "name": "stdout",
     "output_type": "stream",
     "text": [
      "accuracy_score -  0.5642633228840125\n"
     ]
    }
   ],
   "source": [
    "print('accuracy_score - ',accuracy_score(y_pred, data_y_test))"
   ]
  },
  {
   "cell_type": "code",
   "execution_count": 73,
   "metadata": {},
   "outputs": [
    {
     "name": "stdout",
     "output_type": "stream",
     "text": [
      "Macro-Averaged Precision: 0.5809988774521646\n"
     ]
    }
   ],
   "source": [
    "\n",
    "precision_macro = precision_score(y_pred, data_y_test, average='macro')\n",
    "print(f\"Macro-Averaged Precision: {precision_macro}\")"
   ]
  },
  {
   "cell_type": "code",
   "execution_count": 74,
   "metadata": {},
   "outputs": [
    {
     "name": "stdout",
     "output_type": "stream",
     "text": [
      "Weighted F1-Score: 0.5737843184958447\n"
     ]
    }
   ],
   "source": [
    "f1_weighted = f1_score(y_pred, data_y_test, average='weighted')\n",
    "print(f\"Weighted F1-Score: {f1_weighted}\")"
   ]
  },
  {
   "cell_type": "markdown",
   "metadata": {},
   "source": [
    "- посчитанные метрики - точность, MAP, F1\n",
    "- метод случаного леса лучше справляеться с задачей класификации, тк может более точно разделять разные промежутки данных, но он всё ещё недотягивает до хорошего показателя, это можно попытаться исправить при помощи подбора параметра глубины леса"
   ]
  },
  {
   "cell_type": "code",
   "execution_count": null,
   "metadata": {},
   "outputs": [],
   "source": []
  }
 ],
 "metadata": {
  "kernelspec": {
   "display_name": "Python 3",
   "language": "python",
   "name": "python3"
  },
  "language_info": {
   "codemirror_mode": {
    "name": "ipython",
    "version": 3
   },
   "file_extension": ".py",
   "mimetype": "text/x-python",
   "name": "python",
   "nbconvert_exporter": "python",
   "pygments_lexer": "ipython3",
   "version": "3.10.12"
  }
 },
 "nbformat": 4,
 "nbformat_minor": 2
}
